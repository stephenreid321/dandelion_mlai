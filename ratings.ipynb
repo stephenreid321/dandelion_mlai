{
 "cells": [
  {
   "cell_type": "code",
   "execution_count": 1,
   "metadata": {},
   "outputs": [],
   "source": [
    "import pandas as pd\n",
    "\n",
    "from surprise import Dataset, Reader, SVD, NMF, KNNBasic, SlopeOne, CoClustering\n",
    "from surprise.model_selection import cross_validate, GridSearchCV\n",
    "\n",
    "from statistics import mean\n",
    "\n",
    "import matplotlib.pyplot as plt"
   ]
  },
  {
   "cell_type": "code",
   "execution_count": 2,
   "metadata": {},
   "outputs": [
    {
     "name": "stdout",
     "output_type": "stream",
     "text": [
      "<class 'pandas.core.frame.DataFrame'>\n",
      "RangeIndex: 5924 entries, 0 to 5923\n",
      "Data columns (total 3 columns):\n",
      " #   Column      Non-Null Count  Dtype \n",
      "---  ------      --------------  ----- \n",
      " 0   account_id  5924 non-null   object\n",
      " 1   event_id    5924 non-null   object\n",
      " 2   rating      5924 non-null   int64 \n",
      "dtypes: int64(1), object(2)\n",
      "memory usage: 139.0+ KB\n"
     ]
    }
   ],
   "source": [
    "# generated with the Ruby Mongoid command EventFeedback.where(:account_id.ne => nil, :event_id.ne => nil, :rating.ne => nil).each { |ef| puts \"#{ef.account_id},#{ef.event_id},#{ef.rating}\" }\n",
    "ratings = pd.read_csv('data/ratings.csv')\n",
    "ratings.info()"
   ]
  },
  {
   "cell_type": "code",
   "execution_count": 3,
   "metadata": {},
   "outputs": [
    {
     "data": {
      "text/html": [
       "<div>\n",
       "<style scoped>\n",
       "    .dataframe tbody tr th:only-of-type {\n",
       "        vertical-align: middle;\n",
       "    }\n",
       "\n",
       "    .dataframe tbody tr th {\n",
       "        vertical-align: top;\n",
       "    }\n",
       "\n",
       "    .dataframe thead th {\n",
       "        text-align: right;\n",
       "    }\n",
       "</style>\n",
       "<table border=\"1\" class=\"dataframe\">\n",
       "  <thead>\n",
       "    <tr style=\"text-align: right;\">\n",
       "      <th></th>\n",
       "      <th>account_id</th>\n",
       "      <th>event_id</th>\n",
       "      <th>rating</th>\n",
       "    </tr>\n",
       "  </thead>\n",
       "  <tbody>\n",
       "    <tr>\n",
       "      <th>0</th>\n",
       "      <td>5e4e6e4112771b000483118c</td>\n",
       "      <td>5e4d75dffb11270006be7479</td>\n",
       "      <td>5</td>\n",
       "    </tr>\n",
       "    <tr>\n",
       "      <th>1</th>\n",
       "      <td>5d4923fd8c0e3e00100f50ed</td>\n",
       "      <td>5e4ea2fbbc4124000ec93d8b</td>\n",
       "      <td>5</td>\n",
       "    </tr>\n",
       "    <tr>\n",
       "      <th>2</th>\n",
       "      <td>5e4e6f8b12771b000483143a</td>\n",
       "      <td>5e4ea2fbbc4124000ec93d8b</td>\n",
       "      <td>5</td>\n",
       "    </tr>\n",
       "    <tr>\n",
       "      <th>3</th>\n",
       "      <td>5e74347ae86daf0004661556</td>\n",
       "      <td>5e9f0de11dbc32000e77e047</td>\n",
       "      <td>5</td>\n",
       "    </tr>\n",
       "    <tr>\n",
       "      <th>4</th>\n",
       "      <td>5e419dab706b15000430f4e1</td>\n",
       "      <td>5e9f14e31098da0009840bc1</td>\n",
       "      <td>5</td>\n",
       "    </tr>\n",
       "  </tbody>\n",
       "</table>\n",
       "</div>"
      ],
      "text/plain": [
       "                 account_id                  event_id  rating\n",
       "0  5e4e6e4112771b000483118c  5e4d75dffb11270006be7479       5\n",
       "1  5d4923fd8c0e3e00100f50ed  5e4ea2fbbc4124000ec93d8b       5\n",
       "2  5e4e6f8b12771b000483143a  5e4ea2fbbc4124000ec93d8b       5\n",
       "3  5e74347ae86daf0004661556  5e9f0de11dbc32000e77e047       5\n",
       "4  5e419dab706b15000430f4e1  5e9f14e31098da0009840bc1       5"
      ]
     },
     "execution_count": 3,
     "metadata": {},
     "output_type": "execute_result"
    }
   ],
   "source": [
    "ratings.head()"
   ]
  },
  {
   "cell_type": "code",
   "execution_count": 235,
   "metadata": {},
   "outputs": [
    {
     "data": {
      "text/plain": [
       "Text(0, 0.5, 'Count')"
      ]
     },
     "execution_count": 235,
     "metadata": {},
     "output_type": "execute_result"
    },
    {
     "data": {
      "image/png": "[encoded data removed]",
      "text/plain": [
       "<Figure size 640x480 with 1 Axes>"
      ]
     },
     "metadata": {},
     "output_type": "display_data"
    }
   ],
   "source": [
    "# bar chart of ratings\n",
    "ratings['rating'].value_counts().sort_index().plot.bar()\n",
    "# add title and axis labels\n",
    "plt.xlabel('Rating')\n",
    "plt.ylabel('Count')"
   ]
  },
  {
   "cell_type": "code",
   "execution_count": 4,
   "metadata": {},
   "outputs": [
    {
     "name": "stdout",
     "output_type": "stream",
     "text": [
      "<class 'pandas.core.frame.DataFrame'>\n",
      "RangeIndex: 3044 entries, 0 to 3043\n",
      "Data columns (total 4 columns):\n",
      " #   Column  Non-Null Count  Dtype \n",
      "---  ------  --------------  ----- \n",
      " 0   id      3044 non-null   object\n",
      " 1   name    3044 non-null   object\n",
      " 2   tags    2055 non-null   object\n",
      " 3   date    3043 non-null   object\n",
      "dtypes: object(4)\n",
      "memory usage: 95.2+ KB\n"
     ]
    }
   ],
   "source": [
    "# generated with the Ruby Mongoid command Event.where(:name.ne => nil, :start_time.ne => nil).each { |event| puts %{\"#{event.id}\",\"#{event.name}\",\"#{event.start_time.to_date.to_fs(:db)}\"} }\n",
    "events = pd.read_csv('data/events.csv')\n",
    "events.info()"
   ]
  },
  {
   "cell_type": "code",
   "execution_count": 5,
   "metadata": {},
   "outputs": [
    {
     "data": {
      "text/html": [
       "<div>\n",
       "<style scoped>\n",
       "    .dataframe tbody tr th:only-of-type {\n",
       "        vertical-align: middle;\n",
       "    }\n",
       "\n",
       "    .dataframe tbody tr th {\n",
       "        vertical-align: top;\n",
       "    }\n",
       "\n",
       "    .dataframe thead th {\n",
       "        text-align: right;\n",
       "    }\n",
       "</style>\n",
       "<table border=\"1\" class=\"dataframe\">\n",
       "  <thead>\n",
       "    <tr style=\"text-align: right;\">\n",
       "      <th></th>\n",
       "      <th>id</th>\n",
       "      <th>name</th>\n",
       "      <th>tags</th>\n",
       "      <th>date</th>\n",
       "    </tr>\n",
       "  </thead>\n",
       "  <tbody>\n",
       "    <tr>\n",
       "      <th>0</th>\n",
       "      <td>5e4ea2fbbc4124000ec93d8b</td>\n",
       "      <td>Members' Social with Stephen Reid</td>\n",
       "      <td>NaN</td>\n",
       "      <td>2020-03-27</td>\n",
       "    </tr>\n",
       "    <tr>\n",
       "      <th>1</th>\n",
       "      <td>5edfba3873ca70000e3e5f91</td>\n",
       "      <td>Weekly Psychedelic Hangout</td>\n",
       "      <td>NaN</td>\n",
       "      <td>2020-06-10</td>\n",
       "    </tr>\n",
       "    <tr>\n",
       "      <th>2</th>\n",
       "      <td>5e4d75dffb11270006be7479</td>\n",
       "      <td>Headless Way: A Day with Richard Lang (Members...</td>\n",
       "      <td>NaN</td>\n",
       "      <td>2020-03-21</td>\n",
       "    </tr>\n",
       "    <tr>\n",
       "      <th>3</th>\n",
       "      <td>5e9d95b6e05bb5000405bf6b</td>\n",
       "      <td>Headless Way: Online Workshop with Richard Lang</td>\n",
       "      <td>NaN</td>\n",
       "      <td>2020-05-11</td>\n",
       "    </tr>\n",
       "    <tr>\n",
       "      <th>4</th>\n",
       "      <td>5e9d95b7e05bb5000405bf6c</td>\n",
       "      <td>Come Whine With Me</td>\n",
       "      <td>NaN</td>\n",
       "      <td>2020-04-30</td>\n",
       "    </tr>\n",
       "  </tbody>\n",
       "</table>\n",
       "</div>"
      ],
      "text/plain": [
       "                         id  \\\n",
       "0  5e4ea2fbbc4124000ec93d8b   \n",
       "1  5edfba3873ca70000e3e5f91   \n",
       "2  5e4d75dffb11270006be7479   \n",
       "3  5e9d95b6e05bb5000405bf6b   \n",
       "4  5e9d95b7e05bb5000405bf6c   \n",
       "\n",
       "                                                name tags        date  \n",
       "0                  Members' Social with Stephen Reid  NaN  2020-03-27  \n",
       "1                         Weekly Psychedelic Hangout  NaN  2020-06-10  \n",
       "2  Headless Way: A Day with Richard Lang (Members...  NaN  2020-03-21  \n",
       "3    Headless Way: Online Workshop with Richard Lang  NaN  2020-05-11  \n",
       "4                                 Come Whine With Me  NaN  2020-04-30  "
      ]
     },
     "execution_count": 5,
     "metadata": {},
     "output_type": "execute_result"
    }
   ],
   "source": [
    "events.head()"
   ]
  },
  {
   "cell_type": "code",
   "execution_count": 226,
   "metadata": {},
   "outputs": [
    {
     "name": "stdout",
     "output_type": "stream",
     "text": [
      "<class 'pandas.core.frame.DataFrame'>\n",
      "RangeIndex: 58959 entries, 0 to 58958\n",
      "Data columns (total 2 columns):\n",
      " #   Column      Non-Null Count  Dtype \n",
      "---  ------      --------------  ----- \n",
      " 0   account_id  58959 non-null  object\n",
      " 1   event_id    58959 non-null  object\n",
      "dtypes: object(2)\n",
      "memory usage: 921.4+ KB\n"
     ]
    }
   ],
   "source": [
    "# generated with the Ruby Mongoid command Ticket.where(:account_id.ne => nil).each { |ticket| puts \"#{ticket.account_id},#{ticket.event_id}\" }\n",
    "tickets = pd.read_csv('data/tickets.csv')\n",
    "tickets.info()"
   ]
  },
  {
   "cell_type": "code",
   "execution_count": 207,
   "metadata": {},
   "outputs": [
    {
     "data": {
      "text/html": [
       "<div>\n",
       "<style scoped>\n",
       "    .dataframe tbody tr th:only-of-type {\n",
       "        vertical-align: middle;\n",
       "    }\n",
       "\n",
       "    .dataframe tbody tr th {\n",
       "        vertical-align: top;\n",
       "    }\n",
       "\n",
       "    .dataframe thead th {\n",
       "        text-align: right;\n",
       "    }\n",
       "</style>\n",
       "<table border=\"1\" class=\"dataframe\">\n",
       "  <thead>\n",
       "    <tr style=\"text-align: right;\">\n",
       "      <th></th>\n",
       "      <th>account_id</th>\n",
       "      <th>event_id</th>\n",
       "    </tr>\n",
       "  </thead>\n",
       "  <tbody>\n",
       "    <tr>\n",
       "      <th>0</th>\n",
       "      <td>586d2eb3cc88ff00093f21e5</td>\n",
       "      <td>5eb7ef16c81bf400137a7c95</td>\n",
       "    </tr>\n",
       "    <tr>\n",
       "      <th>1</th>\n",
       "      <td>586d2eb3cc88ff00093f21e5</td>\n",
       "      <td>5eb95d012aaa15000ed9ab97</td>\n",
       "    </tr>\n",
       "    <tr>\n",
       "      <th>2</th>\n",
       "      <td>586d2eb3cc88ff00093f21e5</td>\n",
       "      <td>5ebd83ddba390800093afe12</td>\n",
       "    </tr>\n",
       "    <tr>\n",
       "      <th>3</th>\n",
       "      <td>586d2eb3cc88ff00093f21e5</td>\n",
       "      <td>5ed7e1da43d68f0010599e79</td>\n",
       "    </tr>\n",
       "    <tr>\n",
       "      <th>4</th>\n",
       "      <td>586d2eb3cc88ff00093f21e5</td>\n",
       "      <td>5edccb76ff8d2c000a3253d8</td>\n",
       "    </tr>\n",
       "  </tbody>\n",
       "</table>\n",
       "</div>"
      ],
      "text/plain": [
       "                 account_id                  event_id\n",
       "0  586d2eb3cc88ff00093f21e5  5eb7ef16c81bf400137a7c95\n",
       "1  586d2eb3cc88ff00093f21e5  5eb95d012aaa15000ed9ab97\n",
       "2  586d2eb3cc88ff00093f21e5  5ebd83ddba390800093afe12\n",
       "3  586d2eb3cc88ff00093f21e5  5ed7e1da43d68f0010599e79\n",
       "4  586d2eb3cc88ff00093f21e5  5edccb76ff8d2c000a3253d8"
      ]
     },
     "execution_count": 207,
     "metadata": {},
     "output_type": "execute_result"
    }
   ],
   "source": [
    "tickets.head()"
   ]
  },
  {
   "cell_type": "code",
   "execution_count": 208,
   "metadata": {},
   "outputs": [
    {
     "name": "stdout",
     "output_type": "stream",
     "text": [
      "<class 'surprise.prediction_algorithms.knns.KNNBasic'>\n",
      "Computing the msd similarity matrix...\n",
      "Done computing similarity matrix.\n",
      "Computing the msd similarity matrix...\n",
      "Done computing similarity matrix.\n",
      "Computing the msd similarity matrix...\n",
      "Done computing similarity matrix.\n",
      "Computing the msd similarity matrix...\n",
      "Done computing similarity matrix.\n",
      "Computing the msd similarity matrix...\n",
      "Done computing similarity matrix.\n",
      "<class 'surprise.prediction_algorithms.matrix_factorization.SVD'>\n",
      "<class 'surprise.prediction_algorithms.matrix_factorization.NMF'>\n",
      "<class 'surprise.prediction_algorithms.slope_one.SlopeOne'>\n",
      "<class 'surprise.prediction_algorithms.co_clustering.CoClustering'>\n"
     ]
    },
    {
     "data": {
      "text/html": [
       "<div>\n",
       "<style scoped>\n",
       "    .dataframe tbody tr th:only-of-type {\n",
       "        vertical-align: middle;\n",
       "    }\n",
       "\n",
       "    .dataframe tbody tr th {\n",
       "        vertical-align: top;\n",
       "    }\n",
       "\n",
       "    .dataframe thead th {\n",
       "        text-align: right;\n",
       "    }\n",
       "</style>\n",
       "<table border=\"1\" class=\"dataframe\">\n",
       "  <thead>\n",
       "    <tr style=\"text-align: right;\">\n",
       "      <th></th>\n",
       "      <th>KNNBasic</th>\n",
       "      <th>SVD</th>\n",
       "      <th>NMF</th>\n",
       "      <th>SlopeOne</th>\n",
       "      <th>CoClustering</th>\n",
       "    </tr>\n",
       "  </thead>\n",
       "  <tbody>\n",
       "    <tr>\n",
       "      <th>RMSE</th>\n",
       "      <td>0.758654</td>\n",
       "      <td>0.729952</td>\n",
       "      <td>0.933324</td>\n",
       "      <td>0.782013</td>\n",
       "      <td>0.802260</td>\n",
       "    </tr>\n",
       "    <tr>\n",
       "      <th>fit_time</th>\n",
       "      <td>0.208254</td>\n",
       "      <td>0.068669</td>\n",
       "      <td>0.337110</td>\n",
       "      <td>0.065167</td>\n",
       "      <td>0.485396</td>\n",
       "    </tr>\n",
       "  </tbody>\n",
       "</table>\n",
       "</div>"
      ],
      "text/plain": [
       "          KNNBasic       SVD       NMF  SlopeOne  CoClustering\n",
       "RMSE      0.758654  0.729952  0.933324  0.782013      0.802260\n",
       "fit_time  0.208254  0.068669  0.337110  0.065167      0.485396"
      ]
     },
     "execution_count": 208,
     "metadata": {},
     "output_type": "execute_result"
    }
   ],
   "source": [
    "reader = Reader(rating_scale=(1, 5))\n",
    "data = Dataset.load_from_df(ratings, reader)\n",
    "\n",
    "algos = [KNNBasic, SVD, NMF, SlopeOne, CoClustering]\n",
    "results = {}\n",
    "for algo in algos:\n",
    "  print(algo)\n",
    "  cv = cross_validate(algo(), data, measures=['RMSE'])\n",
    "  results[algo.__name__] = {'RMSE': mean(cv['test_rmse']), 'fit_time': mean(cv['fit_time'])}\n",
    "\n",
    "pd.DataFrame.from_dict(results)"
   ]
  },
  {
   "cell_type": "code",
   "execution_count": 209,
   "metadata": {},
   "outputs": [
    {
     "data": {
      "image/png": "[encoded data removed]",
      "text/plain": [
       "<Figure size 640x480 with 1 Axes>"
      ]
     },
     "metadata": {},
     "output_type": "display_data"
    }
   ],
   "source": [
    "# plot average RMSE\n",
    "plt.bar(range(len(results)), [x['RMSE'] for x in results.values()])\n",
    "plt.xticks(range(len(results)), list(results.keys()))\n",
    "# add labels\n",
    "plt.xlabel('Algorithm')\n",
    "plt.ylabel('RMSE')\n",
    "plt.show()"
   ]
  },
  {
   "cell_type": "code",
   "execution_count": 210,
   "metadata": {},
   "outputs": [
    {
     "data": {
      "image/png": "[encoded data removed]",
      "text/plain": [
       "<Figure size 640x480 with 1 Axes>"
      ]
     },
     "metadata": {},
     "output_type": "display_data"
    }
   ],
   "source": [
    "# plot average fit_time\n",
    "plt.bar(range(len(results)), [x['fit_time'] for x in results.values()])\n",
    "plt.xticks(range(len(results)), list(results.keys()))\n",
    "# add labels\n",
    "plt.xlabel('Algorithm')\n",
    "plt.ylabel('Fit time (s)')\n",
    "plt.show()"
   ]
  },
  {
   "cell_type": "code",
   "execution_count": 211,
   "metadata": {},
   "outputs": [
    {
     "name": "stdout",
     "output_type": "stream",
     "text": [
      "0.7237060827682019\n",
      "{'n_epochs': 50, 'lr_all': 0.01, 'reg_all': 0.02}\n"
     ]
    }
   ],
   "source": [
    "# defaults = {'n_epochs': [20], 'lr_all': [0.005], 'reg_all': [0.02]}\n",
    "param_grid = {'n_epochs': [10, 20, 50], 'lr_all': [0.001, 0.005, 0.01], 'reg_all': [0.01, 0.02, 0.05]}\n",
    "grid_search = GridSearchCV(SVD, param_grid, measures=['rmse'])\n",
    "grid_search.fit(data)\n",
    "\n",
    "# print best RMSE score\n",
    "print(grid_search.best_score['rmse'])\n",
    "# print combination of parameters that gave the best RMSE score\n",
    "print(grid_search.best_params['rmse'])"
   ]
  },
  {
   "cell_type": "code",
   "execution_count": 212,
   "metadata": {},
   "outputs": [],
   "source": [
    "svd = grid_search.best_estimator[\"rmse\"]\n",
    "trainset = data.build_full_trainset()\n",
    "svd.fit(trainset)\n",
    "anti_testset = trainset.build_anti_testset()\n",
    "anti_predictions = svd.test(anti_testset)"
   ]
  },
  {
   "cell_type": "code",
   "execution_count": 227,
   "metadata": {},
   "outputs": [
    {
     "name": "stdout",
     "output_type": "stream",
     "text": [
      "Re-Creation: Psychedelics & Festivals 2023-08-02 4.94\n",
      "Psychedelic Gong Bath (Round Chapel) 2023-07-10 4.89\n",
      "Belonging 2023-07-19 4.85\n",
      "Gong Meditation - 7th August 2023-08-07 4.84\n",
      "Vibrating Under One Moon - A Journey of Self Discovery Through Song, Sound and Voice with Terra Cósmica 2023-07-27 4.8\n",
      "Introduction To Somatics 2023-09-05 4.77\n",
      "Agua Terra Gathering : A Restorative Festival to Connect with Self, Community & Nature 2023-07-27 4.76\n",
      "Kundalini Yoga, Cacao and Harmonising Sound Journey 2023-07-16 4.72\n",
      "Gong Meditation - 24th July 2023-07-24 4.71\n",
      "Wim Hof Method Fundamentals - London 2023-07-29 4.69\n"
     ]
    }
   ],
   "source": [
    "# get account with most ratings\n",
    "account_id = ratings['account_id'].value_counts().idxmax()\n",
    "# get predictions for this account\n",
    "account_predictions = [pred for pred in anti_predictions if pred.uid == account_id]\n",
    "# consider only future events\n",
    "time_threshold = pd.to_datetime('today') - pd.DateOffset(months=1)\n",
    "account_predictions = [pred for pred in account_predictions if pd.to_datetime(events[events['id'] == pred.iid]['date'].values[0]) > time_threshold]\n",
    "# consider only events the account has not attended\n",
    "account_predictions = [pred for pred in account_predictions if pred.iid not in tickets[tickets['account_id'] == account_id]['event_id'].values]\n",
    "# sort account_predictions by estimated rating\n",
    "account_predictions.sort(key=lambda x: x.est, reverse=True)\n",
    "# print top 10\n",
    "for pred in account_predictions[:10]:\n",
    "  event = events[events['id'] == pred.iid]  \n",
    "  print(event['name'].values[0], event['date'].values[0], round(pred.est, 2))"
   ]
  }
 ],
 "metadata": {
  "kernelspec": {
   "display_name": "Python 3.9.13 ('base')",
   "language": "python",
   "name": "python3"
  },
  "language_info": {
   "codemirror_mode": {
    "name": "ipython",
    "version": 3
   },
   "file_extension": ".py",
   "mimetype": "text/x-python",
   "name": "python",
   "nbconvert_exporter": "python",
   "pygments_lexer": "ipython3",
   "version": "3.9.13"
  },
  "orig_nbformat": 4,
  "vscode": {
   "interpreter": {
    "hash": "1fb6c21cf1c446ee40032bc2142822b9afced66d1994ef791465946b859b9a27"
   }
  }
 },
 "nbformat": 4,
 "nbformat_minor": 2
}
